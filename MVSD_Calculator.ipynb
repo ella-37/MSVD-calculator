{
  "nbformat": 4,
  "nbformat_minor": 0,
  "metadata": {
    "colab": {
      "provenance": []
    },
    "kernelspec": {
      "name": "python3",
      "display_name": "Python 3"
    },
    "language_info": {
      "name": "python"
    }
  },
  "cells": [
    {
      "cell_type": "markdown",
      "source": [
        "#**Mean-Variance-Standard Deviation Calculator**"
      ],
      "metadata": {
        "id": "FkoqbSbloHgy"
      }
    },
    {
      "cell_type": "code",
      "execution_count": 28,
      "metadata": {
        "colab": {
          "base_uri": "https://localhost:8080/"
        },
        "id": "oTzxLAxSm-BU",
        "outputId": "9dc8f39d-2b3e-4d35-e618-72454c469289"
      },
      "outputs": [
        {
          "output_type": "execute_result",
          "data": {
            "text/plain": [
              "{'mean': [[3.0, 4.0, 5.0], [1.0, 4.0, 7.0], 4.0],\n",
              " 'variance': [[6.0, 6.0, 6.0],\n",
              "  [0.6666666666666666, 0.6666666666666666, 0.6666666666666666],\n",
              "  6.666666666666667],\n",
              " 'standard deviation': [[2.449489742783178,\n",
              "   2.449489742783178,\n",
              "   2.449489742783178],\n",
              "  [0.816496580927726, 0.816496580927726, 0.816496580927726],\n",
              "  2.581988897471611],\n",
              " 'max': [[6, 7, 8], [2, 5, 8], 8],\n",
              " 'min': [[0, 1, 2], [0, 3, 6], 0],\n",
              " 'sum': [[9, 12, 15], [3, 12, 21], 36]}"
            ]
          },
          "metadata": {},
          "execution_count": 28
        }
      ],
      "source": [
        "import numpy as np\n",
        "\n",
        "def calculate(digits):\n",
        "  if len(digits) != 9:\n",
        "    raise ValueError('List must contain nine numbers')\n",
        "  npa = np.array(digits).reshape([3,3])\n",
        "  dict = {'mean': [npa.mean(0).tolist(), npa.mean(1).tolist(), npa.mean()],\n",
        "          'variance': [npa.var(0).tolist(), npa.var(1).tolist(), npa.var()],\n",
        "          'standard deviation': [npa.std(0).tolist(), npa.std(1).tolist(), npa.std()],\n",
        "          'max': [npa.max(0).tolist(), npa.max(1).tolist(), npa.max()],\n",
        "          'min': [npa.min(0).tolist(), npa.min(1).tolist(), npa.min()],\n",
        "          'sum': [npa.sum(0).tolist(), npa.sum(1).tolist(), npa.sum()],}\n",
        "  return dict\n",
        "\n",
        "calculate([0,1,2,3,4,5,6,7,8])"
      ]
    }
  ]
}